{
 "cells": [
  {
   "cell_type": "markdown",
   "metadata": {},
   "source": [
    "## Step.1 请先准备好Devign的function.json数据集"
   ]
  },
  {
   "cell_type": "markdown",
   "metadata": {},
   "source": [
    "- 可从2080服务器上或https://sites.google.com/view/devign获取"
   ]
  },
  {
   "cell_type": "markdown",
   "metadata": {},
   "source": [
    "## Step.2 将Devign数据集中的函数分别写入C文件中，一个函数一个.c"
   ]
  },
  {
   "cell_type": "code",
   "execution_count": null,
   "metadata": {},
   "outputs": [],
   "source": [
    "# 查看数据情况\n",
    "import json\n",
    "\n",
    "file_path = '/mnt/sda/.../Devign/function.json'  # 修改，自己的路径\n",
    "\n",
    "with open(file_path, 'r') as json_file:\n",
    "    data = json.load(json_file)\n",
    "len(data)"
   ]
  },
  {
   "cell_type": "code",
   "execution_count": null,
   "metadata": {},
   "outputs": [],
   "source": [
    "\n",
    "import os\n",
    "from tqdm import tqdm\n",
    "\n",
    "vul = '/mnt/sda/.../Devign/vulc'  # 自定义缺陷保存路径\n",
    "novul = '/mnt/sda/.../Devign/novulc'  # 自定义无缺陷保存路径\n",
    "txt_paths = '/mnt/sda/.../Devign/devign_paths.txt'  # 自定义保存每个c文件的txt文件的路径\n",
    "\n",
    "\n",
    "if not os.path.exists(vul):\n",
    "    os.makedirs(vul)\n",
    "if not os.path.exists(novul):\n",
    "    os.makedirs(novul)\n",
    "\n",
    "\n",
    "path_list = []\n",
    "count = 0\n",
    "for item in tqdm(data, desc=\"Writing to C files\"):\n",
    "    label = item['target']  # 数据集中标签\n",
    "    fun = item['func']  # 数据集中函数的代码\n",
    "\n",
    "    if label == 0:\n",
    "        save_path = vul + str(count) + '.c'\n",
    "        with open(save_path, 'w') as file:\n",
    "            file.write(fun)\n",
    "        path_list.append(save_path)\n",
    "    else:\n",
    "        save_path = novul + str(count) + '.c'\n",
    "        with open(save_path, 'w') as file:\n",
    "            file.write(fun)\n",
    "        path_list.append(save_path)\n",
    "    count += 1\n",
    "\n",
    "with open(txt_paths, 'a') as txt_file:\n",
    "    for item in path_list:\n",
    "        txt_file.write(item + '\\n')\n"
   ]
  },
  {
   "cell_type": "markdown",
   "metadata": {},
   "source": [
    "## Step.3 代码正则化（可选）"
   ]
  },
  {
   "cell_type": "markdown",
   "metadata": {},
   "source": [
    "注意：下面三种格式清理可自行选用，但将直接覆盖原文件，如有必要，请提前备份！！！\n",
    "- delete_committe.py: 清理注释。只需要替换main()中的路径即可，该路径下应该保存着每一个.dot。\n",
    "- delete_empty_line.py: 清理空行（一般情况下空行不会对joern转pdg的过程产生影响）。用法同上。\n",
    "- delete_dot_patter.py: 去除类html的标签、节点label中无关的类型内容、所在行的标签等。可自定义的启发式规则。基础用法同上。"
   ]
  },
  {
   "cell_type": "markdown",
   "metadata": {},
   "source": [
    "## Step.4 使用Joern生成pdg图"
   ]
  },
  {
   "cell_type": "markdown",
   "metadata": {},
   "source": [
    "- Joern安装：https://docs.joern.io/installation/"
   ]
  },
  {
   "cell_type": "markdown",
   "metadata": {},
   "source": [
    "#### 在使用脚本前，请检查目录结构是否符合\n",
    "....../\n",
    "|--Devign\n",
    "|   |--devign_paths.txt\n",
    "|   └── generate_dot.sh\n",
    "|   └── vulc\n",
    "|   └── novulc\n",
    "|   └── vulcdot  # 请现在建好，脚本运行需要\n",
    "|   └── novulcdot  # 请现在建好，脚本运行需要"
   ]
  },
  {
   "cell_type": "markdown",
   "metadata": {},
   "source": [
    "- 1.修改.sh中txt文件的路径为上述使用的txt路径。\n",
    "- 2.在命令行中运行nohup /mnt/sda/generate_dot.sh &\n",
    "- 3.如果是基于Devign数据集，耐心等2-3天处理完毕。在此过程中，可进入/mnt/sda/.../joern/joern-cli目录下，使用tail -n 10 nohup.out命令查看nohup.out日志文件的后10行，若处理完成，会显示100%。"
   ]
  },
  {
   "cell_type": "markdown",
   "metadata": {},
   "source": [
    "## Step.5 将1-pdg.dot提取出来"
   ]
  },
  {
   "cell_type": "markdown",
   "metadata": {},
   "source": [
    "- 首先查看joern生成pdg图的过程中有没有缺失\n",
    "- pdg图目录的名称是c文件名称"
   ]
  },
  {
   "cell_type": "code",
   "execution_count": null,
   "metadata": {},
   "outputs": [],
   "source": [
    "import os\n",
    "import shutil"
   ]
  },
  {
   "cell_type": "code",
   "execution_count": null,
   "metadata": {},
   "outputs": [],
   "source": [
    "# 查看生成过程中文件是否有损失\n",
    "novulcode_path = '/mnt/sda/.../Devign/novulc'\n",
    "vulcode_path = '/mnt/sda/.../Devign/vulc'\n",
    "novulpdgdir_path = '/mnt/sda/.../Devign/novulcdot'\n",
    "vulpdgdir_path = '/mnt/sda/.../Devign/vulcdot'\n",
    "if len(os.listdir(novulcode_path)) == len(os.listdir(novulpdgdir_path)):\n",
    "    print(f\"无缺陷代码文件数：{len(os.listdir(novulcode_path))}, 生成pdg过程中，无缺陷文件没有损失！\")\n",
    "else:\n",
    "    print(f\"无缺陷代码文件数：{len(os.listdir(novulcode_path))}, 生成pdg过程中，无缺陷文件有损失！\")\n",
    "if len(os.listdir(vulcode_path)) == len(os.listdir(vulpdgdir_path)):\n",
    "    print(f\"缺陷代码文件数：{len(os.listdir(vulcode_path))}, 生成pdg过程中，缺陷文件没有损失！\")\n",
    "else:\n",
    "    print(f\"缺陷代码文件数：{len(os.listdir(vulcode_path))}, 生成pdg过程中，缺陷文件有损失！\")\n"
   ]
  },
  {
   "cell_type": "markdown",
   "metadata": {},
   "source": [
    "- 把每个图包中的1-pdg.dot提取出来"
   ]
  },
  {
   "cell_type": "code",
   "execution_count": null,
   "metadata": {},
   "outputs": [],
   "source": [
    "\n",
    "novulsingle = \"/mnt/sda/.../Devign/novuldotsingle\"\n",
    "vulsingle = \"/mnt/sda/.../Devign/vuldotsingle\"\n",
    "\n",
    "if not os.path.exists(novulsingle):\n",
    "    os.makedirs(novulsingle)\n",
    "if not os.path.exists(vulsingle):\n",
    "    os.makedirs(vulsingle)\n",
    "\n",
    "\n",
    "src_path = novulpdgdir_path  # 分别运行一下vulpdgdir_path or novulpdgdir_path\n",
    "dot_dir_list = os.listdir(src_path)\n",
    "for dot_dir in dot_dir_list:\n",
    "    dot_dir_path = os.path.join(src_path, dot_dir)\n",
    "    \n",
    "    dot_path = os.path.join(dot_dir_path, \"1-cpg.dot\")\n",
    "    if not os.path.exists(dot_path):\n",
    "        continue\n",
    "\n",
    "    des_path = os.path.join(novulsingle, dot_dir+\"-1-cpg.dot\")  # 分别对于修改成vulsingle or novulsingle\n",
    "\n",
    "    shutil.copy(dot_path, des_path)\n",
    "\n",
    "if len(dot_dir_list) == len(os.listdir(novulsingle)):  # 分别对于修改成vulsingle or novulsingle\n",
    "    print(f\"dot数量：{len(dot_dir_list)}, 提取1-pdg.dot完成！\")\n",
    "else:\n",
    "    print(f\"dot数量：{len(dot_dir_list)}, 提取1-pdg.dot有损失！\")\n"
   ]
  },
  {
   "cell_type": "markdown",
   "metadata": {},
   "source": [
    "- 然后就可以去生成序列了 Finish！！！"
   ]
  }
 ],
 "metadata": {
  "language_info": {
   "name": "python"
  }
 },
 "nbformat": 4,
 "nbformat_minor": 2
}
